{
 "cells": [
  {
   "cell_type": "markdown",
   "metadata": {},
   "source": [
    "<h1> lab 01 </h1> <br>\n",
    " variant 7 <br>\n",
    " Первый закон :: Экспоненциальный  <br>\n",
    " Второй закон :: Равномерный "
   ]
  },
  {
   "cell_type": "code",
   "execution_count": 1,
   "metadata": {},
   "outputs": [],
   "source": [
    "import numpy as np\n",
    "import matplotlib.pyplot as plt\n",
    "import math\n",
    "\n",
    "%matplotlib inline"
   ]
  },
  {
   "cell_type": "code",
   "execution_count": null,
   "metadata": {},
   "outputs": [],
   "source": []
  },
  {
   "cell_type": "markdown",
   "metadata": {},
   "source": [
    " 1. Экспоненциальное распределение <br>\n",
    "${𝑓(𝑥)} = \\begin{cases}\n",
    "  λe^{−λx} & \\text{ x≥0 }\\\\    \n",
    "  0 & \\text{ x<0 }   \n",
    "\\end{cases} $"
   ]
  },
  {
   "cell_type": "code",
   "execution_count": 2,
   "metadata": {},
   "outputs": [],
   "source": [
    "def exponential(intensity,sigma):\n",
    "    \"\"\"Return a sample from Exponential distribution\"\"\"\n",
    "    \n",
    "    m = 1.0 /  intensity\n",
    "    lamda = 1 / m\n",
    "    res = 0\n",
    "    while res <= 0:\n",
    "        res = np.random.exponential(m,None)\n",
    "    return res    "
   ]
  },
  {
   "cell_type": "markdown",
   "metadata": {},
   "source": [
    "1. Равномерное распределение <br>\n",
    "\n",
    "${𝑓(𝑥)} = \\begin{cases}\n",
    "  \\frac{1}{b-a}   & \\text{ 𝑥∈[𝑎,𝑏] }\\\\    \n",
    "  0 & \\text{𝑥∉[𝑎,𝑏] }   \n",
    "\\end{cases} $"
   ]
  },
  {
   "cell_type": "code",
   "execution_count": 3,
   "metadata": {},
   "outputs": [],
   "source": [
    "def uniform(intensity, sigma):\n",
    "    \"\"\"Return a sample from uniform distribution\"\"\"\n",
    "    m = 1/ intensity\n",
    "    a = m - math.sqrt(3) * sigma\n",
    "    b = m + math.sqrt(3) * sigma\n",
    "    res = 0 \n",
    "    while res <= 0:\n",
    "        res = np.random.uniform(b, a, None)\n",
    "    return res    \n",
    "    "
   ]
  },
  {
   "cell_type": "markdown",
   "metadata": {},
   "source": [
    "CMO"
   ]
  },
  {
   "cell_type": "code",
   "execution_count": 4,
   "metadata": {},
   "outputs": [],
   "source": [
    "class Queue:\n",
    "    def __init__(self):\n",
    "        self.req_lst = []\n",
    "        self.wait_time = 0\n",
    "\n",
    "    def enqueue(self, request):\n",
    "        self.req_lst.append(request)\n",
    "\n",
    "    def dequeue(self):\n",
    "        if not self.req_lst:\n",
    "            return None\n",
    "        else:\n",
    "            return self.req_lst.pop(0)\n",
    "        \n",
    "class Request:\n",
    "    def __init__(self, start):\n",
    "        self.start_time = start\n",
    "        \n",
    "class Device:\n",
    "    def __init__(self, rand_func):\n",
    "        self.rand_func = rand_func\n",
    "        self.run_time = 0\n",
    "        \n",
    "    def generate_time(self):\n",
    "        gen_time = self.rand_func()\n",
    "        self.run_time += gen_time\n",
    "        return gen_time\n",
    "        \n",
    "class Generator(Device):\n",
    "    def __init__(self, rand_func, queue):\n",
    "        super().__init__(rand_func)\n",
    "        self.queue = queue\n",
    "        self.generated = 0\n",
    "        self.cur_time = 0\n",
    "    \n",
    "    def generate(self):\n",
    "        request = Request(self.cur_time)\n",
    "        self.queue.enqueue(request)\n",
    "        \n",
    "        self.generated += 1\n",
    "        self.cur_time += self.generate_time()\n",
    "        \n",
    "class Processor(Device):\n",
    "    def __init__(self, rand_func, queue):\n",
    "        super().__init__(rand_func)\n",
    "        self.queue = queue\n",
    "        self.processed = 0\n",
    "        self.cur_time = 0\n",
    "        \n",
    "    def process(self):      \n",
    "        request = self.queue.dequeue()\n",
    "        \n",
    "        if request is not None:\n",
    "            # Idle, when processor handle the previous request in a short time, \n",
    "            # it has some idle time till the next request, it should be handled here\n",
    "            if (request.start_time > self.cur_time):\n",
    "                self.cur_time = request.start_time\n",
    "            \n",
    "            self.processed += 1\n",
    "            self.queue.wait_time += (self.cur_time - request.start_time)\n",
    "            self.cur_time += self.generate_time()\n",
    "        \n",
    "class Controller:\n",
    "    def __init__(self, func_gen, func_proc, model_time):\n",
    "        self.queue = Queue()\n",
    "        generator = Generator(func_gen, self.queue)\n",
    "        processor = Processor(func_proc, self.queue)\n",
    "        self.dev = [generator, processor]\n",
    "        self.model_time = model_time\n",
    "    \n",
    "    def get_dev(self):\n",
    "        '''Get device with minimum time'''\n",
    "        min_time = self.dev[0].cur_time\n",
    "        min_dev = self.dev[0]\n",
    "        \n",
    "        for dev in self.dev:\n",
    "            if dev.cur_time < min_time:\n",
    "                if isinstance(dev, Processor) and not dev.queue.req_lst:\n",
    "                    continue\n",
    "                min_time = dev.cur_time\n",
    "                min_dev = dev\n",
    "        \n",
    "        return min_time, min_dev\n",
    "    \n",
    "    def start(self):\n",
    "        cur_time = 0\n",
    "        self.dev[0].generate()\n",
    "        \n",
    "        while cur_time < self.model_time:\n",
    "            cur_time, dev = self.get_dev()\n",
    "            if isinstance(dev, Generator):\n",
    "                dev.generate()\n",
    "            if isinstance(dev, Processor):\n",
    "                dev.process()\n",
    "    \n",
    "    def get_load(self):\n",
    "        gen_intense = self.dev[0].generated / self.dev[0].run_time\n",
    "        proc_intense = self.dev[1].processed / self.dev[1].run_time\n",
    "        return gen_intense / proc_intense\n",
    "    \n",
    "    def get_wait_time(self):\n",
    "        return self.queue.wait_time"
   ]
  },
  {
   "cell_type": "markdown",
   "metadata": {},
   "source": [
    "Requirement 1 - Display the estimated system load and the actual one obtained from the simulation results"
   ]
  },
  {
   "cell_type": "code",
   "execution_count": 5,
   "metadata": {},
   "outputs": [
    {
     "name": "stdout",
     "output_type": "stream",
     "text": [
      "Параметры поступления заявок\n",
      "\tИнтенсивность (заявок/с): 5\n",
      "\tСреднеквадратическое отклонение: 0.1\n",
      "Параметры обслуживания заявок\n",
      "\tИнтенсивность (заявок/с): 5\n",
      "\tСреднеквадратическое отклонение: 0.1\n",
      "Время моделирования (c): 1000\n",
      "Расчетная загрузка:\t1.0\n",
      "Фактическая загрузка:\t0.9981841923518441\n"
     ]
    }
   ],
   "source": [
    "print('Параметры поступления заявок')\n",
    "gen_intense = float(input('\\tИнтенсивность (заявок/с): '))\n",
    "gen_sigma = float(input('\\tСреднеквадратическое отклонение: '))\n",
    "\n",
    "print('Параметры обслуживания заявок')\n",
    "proc_intense = float(input('\\tИнтенсивность (заявок/с): '))\n",
    "proc_sigma = float(input('\\tСреднеквадратическое отклонение: '))\n",
    "\n",
    "model_time = float(input('Время моделирования (c): '))\n",
    "\n",
    "#gen_intense = 4.5\n",
    "#gen_sigma = .1\n",
    "#proc_intenseproc_sigma = .1\n",
    "#model_time = 100\n",
    "\n",
    "func_gen = lambda: exponential(gen_intense, gen_sigma)\n",
    "func_proc = lambda: uniform(proc_intense, proc_sigma)\n",
    "\n",
    "controller = Controller(func_gen, func_proc, model_time)\n",
    "controller.start()\n",
    "\n",
    "load_expected = gen_intense / proc_intense\n",
    "load_real = controller.get_load()\n",
    "\n",
    "print(f'Расчетная загрузка:\\t{load_expected}')\n",
    "print(f'Фактическая загрузка:\\t{load_real}')"
   ]
  },
  {
   "cell_type": "markdown",
   "metadata": {},
   "source": [
    "Requirement 2 - Build a plot of output parameter dependence (cf. waiting (stay) time depending on system load)."
   ]
  },
  {
   "cell_type": "code",
   "execution_count": 6,
   "metadata": {},
   "outputs": [],
   "source": [
    "load_val = []\n",
    "time_val = []\n",
    "\n",
    "for gen_intense in np.arange(.01, 5.1, 0.1):\n",
    "    func_gen = lambda: exponential(gen_intense, gen_sigma)\n",
    "    controller = Controller(func_gen, func_proc, model_time)\n",
    "    controller.start()\n",
    "    load_val.append(controller.get_load())\n",
    "    time_val.append(controller.get_wait_time())"
   ]
  },
  {
   "cell_type": "code",
   "execution_count": 7,
   "metadata": {},
   "outputs": [
    {
     "data": {
      "text/plain": [
       "Text(0, 0.5, 'Ср. время ожидания в очереди (с)')"
      ]
     },
     "execution_count": 7,
     "metadata": {},
     "output_type": "execute_result"
    },
    {
     "data": {
      "image/png": "[encoded data removed]",
      "text/plain": [
       "<Figure size 1000x500 with 1 Axes>"
      ]
     },
     "metadata": {
      "needs_background": "light"
     },
     "output_type": "display_data"
    }
   ],
   "source": [
    "# Plot figures\n",
    "fig = plt.figure(figsize=(10, 5), dpi=100)\n",
    "plt.subplot(1, 1, 1)\n",
    "plt.title(\"График зависимости выходного параметра\")\n",
    "plt.grid(True)\n",
    "\n",
    "plt.plot(load_val, time_val)\n",
    "plt.xlabel(\"Загрузка\")\n",
    "plt.ylabel(\"Ср. время ожидания в очереди (с)\")"
   ]
  },
  {
   "cell_type": "markdown",
   "metadata": {},
   "source": [
    "<h1><b> lab_02 </b></h1>"
   ]
  },
  {
   "cell_type": "markdown",
   "metadata": {},
   "source": [
    "<h2><b> usage </b></h2>"
   ]
  },
  {
   "cell_type": "code",
   "execution_count": 8,
   "metadata": {},
   "outputs": [],
   "source": [
    "n_factor = 4\n",
    "m_size = 2 ** n_factor\n",
    "repeat = 20\n",
    "\n",
    "def build_plan():\n",
    "    res = np.ones(shape=(m_size, m_size), dtype=np.float32)\n",
    "    step = 1\n",
    "    for j in range(4):\n",
    "        sign = -1.\n",
    "        for i in range(m_size):\n",
    "            res[i, j + 1] = sign\n",
    "            if (i + 1) % step == 0:\n",
    "                sign *= -1\n",
    "        step *= 2\n",
    "\n",
    "    res[:,  5] = res[:, 1] * res[:, 2]\n",
    "    res[:,  6] = res[:, 1] * res[:, 3]\n",
    "    res[:,  7] = res[:, 1] * res[:, 4]\n",
    "    res[:,  8] = res[:, 2] * res[:, 3]\n",
    "    res[:,  9] = res[:, 2] * res[:, 4]\n",
    "    res[:, 10] = res[:, 3] * res[:, 4]\n",
    "    res[:, 11] = res[:, 1] * res[:, 2] * res[:, 3]\n",
    "    res[:, 12] = res[:, 1] * res[:, 2] * res[:, 4]\n",
    "    res[:, 13] = res[:, 1] * res[:, 3] * res[:, 4]\n",
    "    res[:, 14] = res[:, 2] * res[:, 3] * res[:, 4]\n",
    "    res[:, 15] = res[:, 1] * res[:, 2] * res[:, 3] * res[:, 4]\n",
    "\n",
    "    return res"
   ]
  },
  {
   "cell_type": "code",
   "execution_count": 9,
   "metadata": {},
   "outputs": [],
   "source": [
    "def scale_factor(x, realmin, realmax, xmin=-1, xmax=1):\n",
    "    return realmin + (realmax - realmin) * (x - xmin) / (xmax - xmin)"
   ]
  },
  {
   "cell_type": "code",
   "execution_count": 10,
   "metadata": {},
   "outputs": [],
   "source": [
    "def get_equation(a):\n",
    "    yl = f\"{a[0]:.2f}\"\n",
    "    for i in range(1, 5):\n",
    "        yl += f\" + {a[i]:.2f}*x{i}\"\n",
    "    yl = yl.replace(\"+ -\", \"- \")\n",
    "\n",
    "    ynl = yl + f\" + {a[5]:.2f}*x1*x2 + {a[6]:.2f}*x1*x3 + {a[7]:.2f}*x1*x4 + \"\\\n",
    "                + f\"{a[8]:.2f}*x2*x3 + {a[9]:.2f}*x2*x4 + {a[10]:.2f}*x3*x4 + \"\\\n",
    "                + f\"{a[11]:.2f}*x1*x2*x3 + {a[12]:.2f}*x1*x2*x4 + {a[13]:.2f}*x1*x3*x4 + \"\\\n",
    "                + f\"{a[14]:.2f}*x2*x3*x4 + {a[15]:.2f}*x1*x2*x3*x4\"\n",
    "    ynl = ynl.replace(\"+ -\", \"- \")\n",
    "    \n",
    "    return yl, ynl"
   ]
  },
  {
   "cell_type": "code",
   "execution_count": 11,
   "metadata": {},
   "outputs": [],
   "source": [
    "def get_mult_indexes(xes):\n",
    "    xes.append(float(xes[1]) * float(xes[2]))\n",
    "    xes.append(float(xes[1]) * float(xes[3]))\n",
    "    xes.append(float(xes[1])* float(xes[4]))\n",
    "    xes.append(float(xes[2]) * float(xes[3]))\n",
    "    xes.append(float(xes[2]) * float(xes[4]))\n",
    "    xes.append(float(xes[3]) * float(xes[4]))\n",
    "    xes.append(float(xes[1]) * float(xes[2]) * float(xes[3]))\n",
    "    xes.append(float(xes[1]) * float(xes[2]) * float(xes[4]))\n",
    "    xes.append(float(xes[1]) * float(xes[3]) * float(xes[4]))\n",
    "    xes.append(float(xes[2]) * float(xes[3]) * float(xes[4]))\n",
    "    xes.append(float(xes[1]) * float(xes[2]) * float(xes[3]) * float(xes[4]))\n",
    "\n",
    "    return xes"
   ]
  },
  {
   "cell_type": "markdown",
   "metadata": {},
   "source": [
    "<h2> <b> GUI </b></h2>"
   ]
  },
  {
   "cell_type": "code",
   "execution_count": null,
   "metadata": {},
   "outputs": [],
   "source": [
    "from PyQt5 import QtWidgets, uic\n",
    "from PyQt5.QtWidgets import *\n",
    "\n",
    "class Window(QMainWindow):\n",
    "    def __init__(self, *args, **kwargs):\n",
    "        super(Window, self).__init__(*args, **kwargs)\n",
    "        uic.loadUi(\"window.ui\", self)\n",
    "        self.plan = build_plan()\n",
    "        self.fill_table(self.plan)\n",
    "        self.pushButton_start.clicked.connect(lambda: self.start())\n",
    "        self.pushButton_delete.clicked.connect(lambda: self.delete())\n",
    "        self.pushButton_add_dot.clicked.connect(lambda: self.add_dot())\n",
    "        self.pushButton_delete_dot.clicked.connect(lambda: self.delete_dot())\n",
    "        # self.plan = build_plan()\n",
    "        # self.xmat = 0\n",
    "        # self.b = []\n",
    "\n",
    "    def fill_table(self, plan):\n",
    "        table = self.tableWidget_experiment\n",
    "        shape = np.shape(plan)\n",
    "        for i in range(shape[0]):\n",
    "            for j in range(shape[1]):\n",
    "                item = QTableWidgetItem(\n",
    "                    str(round(float(plan[i, j]), 4)))\n",
    "                table.setItem(i, j, item)\n",
    "\n",
    "    def load_data(self):\n",
    "        self.mu1_min    = float(self.lineEdit_generator_M1_min.text())\n",
    "        self.mu1_max    = float(self.lineEdit_generator_M1_max.text())\n",
    "        self.sig1_min   = float(self.lineEdit_generator_bi1_min.text())\n",
    "        self.sig1_max   = float(self.lineEdit_generator_bi1_max.text())\n",
    "        self.mu2_min    = float(self.lineEdit_generator_M2_min.text())\n",
    "        self.mu2_max    = float(self.lineEdit_generator_M2_max.text())\n",
    "        self.sig2_min   = float(self.lineEdit_generator_bi2_min.text())\n",
    "        self.sig2_max   = float(self.lineEdit_generator_bi2_max.text())\n",
    "\n",
    "    def get_y(self, plan):\n",
    "        m_size  = np.shape(plan)[0]\n",
    "        mu_1    = scale_factor(plan[:, 1], self.mu1_min, self.mu1_max)\n",
    "        sig_1   = scale_factor(plan[:, 2], self.sig1_min, self.sig1_max)\n",
    "        mu_2    = scale_factor(plan[:, 3], self.mu2_min, self.mu2_max)\n",
    "        sig_2   = scale_factor(plan[:, 4], self.sig2_min, self.sig2_max)\n",
    "\n",
    "        y = np.zeros(m_size, dtype=np.float32)\n",
    "        for i in range(m_size):\n",
    "            for _ in range(repeat):\n",
    "                #functions acording to the variants\n",
    "                func_gen    = lambda: exponential(mu_1[i], sig_1[i])\n",
    "                func_proc   = lambda: uniform(mu_2[i], sig_2[i])\n",
    "\n",
    "                model_time = 20\n",
    "                controller = Controller(func_gen, func_proc, model_time)\n",
    "                controller.start()\n",
    "\n",
    "                y[i] += controller.get_wait_time()\n",
    "            y[i] /= repeat\n",
    "        return y\n",
    "\n",
    "    def get_b(self):\n",
    "        x = self.plan\n",
    "        b = np.matmul(x.T, x)\n",
    "        b = np.linalg.inv(b)\n",
    "        b = np.matmul(b, x.T)\n",
    "        return b\n",
    "\n",
    "    def update(self, plan, y):\n",
    "        y_linear        = np.matmul(plan[:,:n_factor+1], self.a[:n_factor+1])\n",
    "        y_nonlinear     = np.matmul(plan, self.a)\n",
    "        y_linear_err    = np.abs(y - y_linear)\n",
    "        y_nonlinear_err = np.abs(y - y_nonlinear)\n",
    "        plan_new        = np.column_stack((\n",
    "            plan, y, y_linear, y_nonlinear, y_linear_err, y_nonlinear_err))\n",
    "        return plan_new\n",
    "\n",
    "    def start(self):\n",
    "        table = self.tableWidget_experiment\n",
    "        equation = self.lineEdit_lin_mod.text()\n",
    "\n",
    "        self.load_data()\n",
    "\n",
    "        if equation == '':\n",
    "            y         = self.get_y(self.plan)\n",
    "            b         = self.get_b()\n",
    "            self.a    = np.matmul(b, y)\n",
    "\n",
    "            self.plan = self.update(self.plan, y)\n",
    "\n",
    "            self.fill_table(self.plan)\n",
    "\n",
    "            yl, ynl   = get_equation(self.a)\n",
    "            self.lineEdit_lin_mod.setText(str(yl))\n",
    "            self.lineEdit_part_lin_mod.setText(str(ynl))\n",
    "        else:\n",
    "            records = table.rowCount()\n",
    "            mult = []\n",
    "            for i in range(m_size, records):\n",
    "                temp = []\n",
    "                for j in range(5):\n",
    "                    val = table.item(i, j).text()\n",
    "                    temp.append(val)\n",
    "                \n",
    "                temp = get_mult_indexes(temp)\n",
    "                mult.append(temp)\n",
    "            mult = np.array(mult, dtype=np.float32)\n",
    "\n",
    "            y = self.get_y(mult)\n",
    "\n",
    "            plan_new  = self.update(mult, y)\n",
    "            self.plan = np.append(self.plan, plan_new, axis=0)\n",
    "\n",
    "            self.fill_table(self.plan)\n",
    "\n",
    "    def delete(self):\n",
    "        table = self.tableWidget_experiment\n",
    "        while table.rowCount() > 0:\n",
    "            table.removeRow(0)\n",
    "        while table.rowCount() < m_size:\n",
    "            table.insertRow(0)\n",
    "        self.lineEdit_lin_mod.setText(\"\")\n",
    "        self.lineEdit_part_lin_mod.setText(\"\")\n",
    "\n",
    "        self.plan = build_plan()\n",
    "        self.fill_table(self.plan)\n",
    "\n",
    "    def add_dot(self):\n",
    "        table = self.tableWidget_experiment\n",
    "        currentRowCount = table.rowCount()\n",
    "        table.insertRow(currentRowCount)\n",
    "        table.setItem(currentRowCount, 0, QTableWidgetItem('1.0'))\n",
    "        for i in range(1, 5):\n",
    "            table.setItem(currentRowCount, i, QTableWidgetItem('0.0'))\n",
    "\n",
    "    def delete_dot(self):\n",
    "        table = self.tableWidget_experiment\n",
    "        indices = table.selectionModel().selectedRows()\n",
    "        for index in sorted(indices):\n",
    "            table.removeRow(index.row())\n",
    "\n",
    "app = QtWidgets.QApplication([])\n",
    "w = Window()\n",
    "w.show()\n",
    "app.exec_()"
   ]
  },
  {
   "cell_type": "code",
   "execution_count": null,
   "metadata": {},
   "outputs": [],
   "source": [
    " "
   ]
  }
 ],
 "metadata": {
  "kernelspec": {
   "display_name": "Python 3",
   "language": "python",
   "name": "python3"
  },
  "language_info": {
   "codemirror_mode": {
    "name": "ipython",
    "version": 3
   },
   "file_extension": ".py",
   "mimetype": "text/x-python",
   "name": "python",
   "nbconvert_exporter": "python",
   "pygments_lexer": "ipython3",
   "version": "3.7.4"
  }
 },
 "nbformat": 4,
 "nbformat_minor": 2
}
